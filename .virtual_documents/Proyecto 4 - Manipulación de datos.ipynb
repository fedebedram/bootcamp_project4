























# importar librerías

import pandas as pd
import numpy as np
import matplotlib.pyplot as plt


# leer conjuntos de datos en los DataFrames

df_ic_ord = pd.read_csv("datasets/instacart_orders.csv", sep=";")
df_prod = pd.read_csv("datasets/products.csv", sep=";")
df_ais = pd.read_csv("datasets/aisles.csv", sep=";")
df_dep = pd.read_csv("datasets/departments.csv", sep=";")
df_ord = pd.read_csv("datasets/order_products.csv", sep=";")


# mostrar información del DataFrame

df_ic_ord.info(show_counts=True)


df_prod.info(show_counts=True)


df_ais.info(show_counts=True)


df_dep.info(show_counts=True)


df_ord.info(show_counts=True)

















# Revisa si hay pedidos duplicados

print(df_ic_ord.duplicated().sum())





# Elimina los pedidos duplicados

df_ic_ord = df_ic_ord.drop_duplicates().reset_index(drop=True)


# Vuelve a verificar si hay filas duplicadas

print(df_ic_ord.duplicated().sum())


# Basándote en tus hallazgos,
# Verifica todos los pedidos que se hicieron el miércoles a las 2:00 a.m.

print(df_ic_ord[df_ic_ord['order_hour_of_day']==2])
print(df_ic_ord[df_ic_ord['order_hour_of_day']==12])





# Vuelve a verificar si hay IDs duplicados de pedidos

i_ic_ord = df_ic_ord[df_ic_ord["order_id"].duplicated()==True]
print(i_ic_ord)











# Verifica si hay filas totalmente duplicadas

print(df_prod.duplicated().sum())


# Verifica si hay IDs duplicadas de productos

i_prod = df_prod[df_prod["product_id"].duplicated()==True]
print(i_prod)


# Revisa si hay nombres duplicados de productos (convierte los nombres a letras mayúsculas para compararlos mejor)

df_prod["product_name"] = df_prod["product_name"].str.upper()
df_prod.sort_values(by='product_name', inplace=True)
d_prod = df_prod[df_prod.duplicated(subset=["product_name"],keep=False)]
print(d_prod)


# Revisa si hay nombres duplicados de productos no faltantes

d_prod = d_prod[d_prod["product_name"].notnull()]
print(d_prod)











# Revisa si hay filas totalmente duplicadas

print(df_dep.duplicated().sum())


# Revisa si hay IDs duplicadas de productos
i_dep = df_dep[df_dep["department_id"].duplicated()==True]
print(i_dep)








# Revisa si hay filas totalmente duplicadas

print(df_ais.duplicated().sum())


# Revisa si hay IDs duplicadas de productos
i_ais = df_ais[df_ais["aisle_id"].duplicated()==True]
print(i_ais)








# Revisa si hay filas totalmente duplicadas

print(df_ord.duplicated().sum())


# Vuelve a verificar si hay cualquier otro duplicado engañoso

i_ord = df_ord[df_ord.duplicated(subset=['order_id', 'product_id'], keep=False)]

print(i_ord)














# Encuentra los valores ausentes en la columna 'product_name'

print(df_prod.isnull().sum())
print()
print(df_prod.isnull())





#  ¿Todos los nombres de productos ausentes están relacionados con el pasillo con ID 100?

name_ais = df_prod[(df_prod["aisle_id"]==100) & (df_prod["product_name"].isna())]

print(name_ais)





# ¿Todos los nombres de productos ausentes están relacionados con el departamento con ID 21?

id_ais = df_prod[(df_prod["department_id"]==21) & (df_prod["product_name"].isna())]

print(id_ais)





# Usa las tablas department y aisle para revisar los datos del pasillo con ID 100 y el departamento con ID 21.

id_dep = df_prod[(df_prod["department_id"]==21) & (df_prod["aisle_id"]==100)]

print(id_dep)





# Completa los nombres de productos ausentes con 'Unknown'

df_prod["product_name"] = df_prod["product_name"].fillna("Unknown")

print(df_prod.isnull().sum())











# Encuentra los valores ausentes

fst_ic_ord = df_ic_ord[(df_ic_ord["order_number"]==1) & (df_ic_ord["days_since_prior_order"].isna())]

print(fst_ic_ord)


df_ic_ord["days_since_prior_order"] = df_ic_ord["days_since_prior_order"].fillna(-1)

print(df_ic_ord["days_since_prior_order"].unique())











# Encuentra los valores ausentes

print(df_ord.sample())
print()
print(df_ord.isnull().sum())


# ¿Cuáles son los valores mínimos y máximos en esta columna?

print(df_ord["add_to_cart_order"].unique())
print(df_ord["add_to_cart_order"].min())
print(df_ord["add_to_cart_order"].max())





print(df_ord[df_ord["add_to_cart_order"].isna()])


# Guarda todas las IDs de pedidos que tengan un valor ausente en 'add_to_cart_order'

idna_df_ord = []
idna_df_ord = df_ord["order_id"][df_ord["add_to_cart_order"].isna()]
idna_df_ord = idna_df_ord.reset_index(drop=True)


id_ausente2 = df_ord[df_ord["order_id"].isin(idna_df_ord)]


print(id_ausente2[id_ausente2["order_id"]==2094761].sort_values(by="add_to_cart_order"))


# Número total de order_id únicos en id_ausente2
total_unique_orders = id_ausente2["order_id"].nunique()
unique_orders = id_ausente2["order_id"].unique()

print("Número total de order_id únicos:", total_unique_orders)

# Filtrar para obtener los order_id que tienen un add_to_cart_order de 64
orders_with_64 = id_ausente2[id_ausente2["add_to_cart_order"] == 64]

# Número de order_id únicos con add_to_cart_order igual a 64
unique_orders_with_64 = orders_with_64["order_id"].nunique()
print("Número de order_id únicos con add_to_cart_order = 64 :", unique_orders_with_64)


print(total_unique_orders)


# ¿Todos los pedidos con valores ausentes tienen más de 64 productos?

# Agrupa todos los pedidos con datos ausentes por su ID de pedido.

grupo_id_ausente = id_ausente2.groupby("order_id")

# Cuenta el número de 'product_id' en cada pedido y revisa el valor mínimo del conteo.

print(grupo_id_ausente["product_id"].count().min())














# Remplaza los valores ausentes en la columna 'add_to_cart? con 999 y convierte la columna al tipo entero.

df_ord.fillna(999,inplace=True)
df_ord["add_to_cart_order"] = df_ord["add_to_cart_order"].astype(int)

print(
    df_ord.info()
)


df_ord = df_ord[~df_ord["order_id"].isin(unique_orders)]
df_ord1 = df_ord[df_ord["order_id"].isin(unique_orders)]

df_ord.info()
df_ord1.info()



df_ic_ord = df_ic_ord[~df_ic_ord["order_id"].isin(unique_orders)]























day = df_ic_ord["order_dow"].unique()
day.sort()
print(day)

hour = df_ic_ord["order_hour_of_day"].unique()
hour.sort()
print(hour)


def ranges (df,col,minn,maxx):
    range = (df[col] >= minn) & (df[col] <= maxx)
    if range.all():  # Revisa que todos los valores del df cumplan con la condición de "range"
        return "No presenta valores fuera del rango"
    else:
        return "Presenta valores fuera del rango"
    
days = ranges(df_ic_ord,"order_dow",0,6)
print(days)

hours = ranges(df_ic_ord,"order_hour_of_day",0,23)
print(days)
        











orden_hr = df_ic_ord.groupby('order_hour_of_day')['user_id'].nunique()

orden_hr.plot(
    title = "Órdenes por hora",
    xlabel = "Hora del día",
    ylabel = "Clientes",
    legend = False,
    color = "#FF7008",
    width = .8,
    kind = "bar"
)
plt.grid(axis='y', linestyle='--', linewidth=0.2, color='#A4CCA4')
plt.show()











dia_pop = df_ic_ord.groupby('order_dow')['user_id'].nunique()
col_dia = {1:"Lun", 2:"Mar", 3:"Mie", 4:"Jue", 5:"Vie", 6:"Sab",0:"Dom"}
dia_pop.rename(index = col_dia, inplace=True)

dia_pop.plot(
    title = "Órdenes por día",
    x = col_dia,
    xlabel = "Día de la semana",
    ylabel = "Clientes",
    legend = False,
    color = "#FF7008",
    width = .6,
    kind = "bar",
    rot = 45
)
plt.grid(axis='y', linestyle='--', linewidth=0.2, color='#A4CCA4')
plt.show()











df_ic_ord["days_since_prior_order"] = df_ic_ord["days_since_prior_order"].astype(int) #Cambiarlo a entero con el din de hacerlo más práctico

tiempo_perdido = df_ic_ord.groupby('days_since_prior_order')['user_id'].nunique()
new_cli = {-1:"Nuevo cliente"} #Representar el primer pedido de un usuario nuevo con un string parece más adecuado
tiempo_perdido.rename(index = new_cli, inplace=True)

tiempo_perdido.plot(
    kind = "bar",
    width = .8,
    color = "#FF7008",
    legend = False,
    ylabel = "Clientes",
    xlabel = "Días entre pedidos",
)
plt.grid(axis='y', linestyle='--', linewidth=0.2, color='#A4CCA4')

plt.show()
















mier = df_ic_ord[df_ic_ord["order_dow"] == 3]
orden_hr_mier = mier.groupby('order_hour_of_day')["order_id"].nunique()

orden_hr_mier.plot(
    title = "Órdenes por hora del miércoles",
    xlabel = "Hora del día",
    ylabel = "Pedidos",
    legend = False,
    color = "#FF7008",
    width = .8,
    kind = "bar"
)
plt.grid(axis='y', linestyle='--', linewidth=0.2, color='#A4CCA4')
plt.show()


sab = df_ic_ord[df_ic_ord["order_dow"] == 6]
orden_hr_sab = sab.groupby('order_hour_of_day')["order_id"].nunique()

orden_hr_mier.plot(
    title = "Órdenes por hora del sábado",
    xlabel = "Hora del día",
    ylabel = "Pedidos",
    legend = False,
    color = "#FF7008",
    width = .8,
    kind = "bar"
)
plt.grid(axis='y', linestyle='--', linewidth=0.2, color='#A4CCA4')
plt.show()


orden_hr_mier = mier['order_hour_of_day']
orden_hr_sab = sab['order_hour_of_day']

plt.hist(orden_hr_mier, bins = 24, alpha=0.6, label='Miércoles', color = "#FF7008", align='left')
plt.hist(orden_hr_sab, bins = 24, alpha=0.6, label='Sábado', color = "#437540", align='right')
plt.title ("Comparación de órdenes por hora del sábado")
plt.xlabel ("Hora del día")
plt.ylabel ("Pedidos")
plt.legend()
plt.grid(axis='y', linestyle='--', linewidth=0.2, color='#A4CCA4')
plt.show()











ped_cli = df_ic_ord.groupby('user_id')["order_id"].nunique()
ped_cli = ped_cli.value_counts()


ped_cli.plot(
    kind = "bar",
    ylabel = "Clientes",
    xlabel = "Órdenes",
    title = "Órdenes por cliente",
    legend = False,
    color = "#FF7008",
    width = .8
)
plt.grid(axis='y', linestyle='--', linewidth=0.2, color='#A4CCA4')

plt.show()


ped_cli.plot(
    ylabel = "Clientes",
    xlabel = "Órdenes",
    title = "Órdenes por cliente",
    legend = False,
    color = "#FF7008"
)
plt.grid(axis='y', linestyle='--', linewidth=0.2, color='#A4CCA4')

plt.show()














top_20 = df_ord.groupby("product_id")["order_id"].nunique()
top_20 = top_20.sort_values(ascending=False)
top_20 = top_20.head(20)



print(top_20)


i=0
x=0

top_20_prod_p = pd.DataFrame(columns=["product_name","sales"])

while i < 20 and x < len(top_20):
    product_id = top_20.index[x]  # Obtener el product_id desde el índice de top_20
    sales = top_20.iloc[x]  # Obtener las ventas desde los valores de top_20
    
    # Acceder al nombre del producto en df_prod
    product_name = df_prod.loc[df_prod['product_id'] == product_id, 'product_name'].iloc[0]
    
    row = {"product_name":product_name, "sales":sales}
    
    top_20_prod_p = pd.concat([top_20_prod_p, pd.DataFrame([row])], ignore_index=True)
    
    # Imprimir el nombre del producto y las ventas
    print(f"El producto {product_name}, \nvende {sales}.")
    print()
    x += 1
    i += 1


top_20_prod_p.set_index("product_name", inplace=True)

top_20_prod_p.plot(
    kind='bar',
    color = "#FF7008",
    rot = 70,
    figsize = [20,5],
    width = .5,
    legend = False
)

plt.title("La venta de los top 20 productos más populares", fontsize = 14, fontweight="bold")
plt.grid(axis='y', linestyle='--', linewidth=0.2, color='#A4CCA4')
plt.xlabel("Producto")
plt.ylabel("Ventas")

plt.show()

















art_prom = df_ord.groupby("order_id")["product_id"].nunique()



art_prom_1 = art_prom.value_counts()



art_prom_1.plot(
    title = "Artículos por orden total",
    xlabel = "Cantidad de artículos",
    ylabel = "Órdenes",
    legend = False,
    color = "#FF7008",
    width = .8,
    kind = "bar"
)
plt.xticks([0, 20, 40, 60, 80], ["1", "20", "40", "60", "80"])

plt.grid(axis='y', linestyle='--', linewidth=0.2, color='#A4CCA4')
plt.show()








art_prom_2 = art_prom_1[art_prom_1.index <= 40]



art_prom_2.plot(
    title = "Artículos por orden",
    xlabel = "Cantidad de artículos",
    ylabel = "Clientes",
    legend = False,
    color = "#FF7008",
    width = .8,
    kind = "bar"
)
plt.xticks([0, 10, 20, 30, 40], ["1", "10", "20", "30", "40"])

plt.grid(axis='y', linestyle='--', linewidth=0.2, color='#A4CCA4')
plt.show()


art_prom_3 = art_prom_1[art_prom_1.index > 40]


art_prom_3.plot(
    title = "Artículos por orden",
    xlabel = "Cantidad de artículos",
    ylabel = "Clientes",
    legend = False,
    color = "#FF7008",
    width = .8,
    kind = "bar"
)
plt.xticks([0, 20, 40, 60, 80], ["40", "60", "80", "100", "120"])

plt.grid(axis='y', linestyle='--', linewidth=0.2, color='#A4CCA4')
plt.show()








top_20_frecc = df_ord[df_ord["reordered"]==1]



top_20_frecc = top_20_frecc["product_id"].value_counts(ascending=False)
top_20_frecc = top_20_frecc.head(20)



i=0
x=0

top_20_frecc_p = pd.DataFrame(columns=["product_name","reordered"])

while i < 20 and x < len(top_20_frecc):
    product_id = top_20_frecc.index[x]
    reorder = top_20_frecc.iloc[x]
    
    # Acceder al nombre del producto en df_prod
    product_name = df_prod.loc[df_prod['product_id'] == product_id, 'product_name'].iloc[0]
    
    
    row = {"product_name":product_name, "reordered":reorder}
    
    top_20_frecc_p = pd.concat([top_20_frecc_p, pd.DataFrame([row])], ignore_index=True)

    # Imprimir el nombre del producto y las ventas
    print(f"El producto {product_name} con id de {product_id}, \nse volvió a pedir {reorder} veces.")
    print()
    x += 1
    i += 1


top_20_frecc_p.set_index("product_name", inplace=True)

top_20_frecc_p.plot(
    kind='bar',
    color = "#FF7008",
    rot = 70,
    figsize = [20,5],
    width = .5,
    legend = False
)

plt.title("La venta de los top 20 productos que más se piden", fontsize = 14, fontweight="bold")
plt.grid(axis='y', linestyle='--', linewidth=0.2, color='#A4CCA4')
plt.xlabel("Producto")
plt.ylabel("Veces que se ha pedido")

plt.show()














order_ammount = df_ord["product_id"].value_counts()
order_ammount = order_ammount.sort_index()
order_ammount = order_ammount.rename_axis("product_id").reset_index(name="order_ammount")
order_ammount.set_index("product_id", inplace=True)


reorder_frecc = df_ord[df_ord["reordered"]==1]
reorder_frecc = reorder_frecc["product_id"].value_counts()
reorder_frecc = reorder_frecc.sort_index()
reorder_frecc = reorder_frecc.rename_axis("product_id").reset_index(name="reorder_frecc")
reorder_frecc.set_index("product_id", inplace=True)


prod_name = df_prod.set_index('product_id')['product_name']


df_concat = pd.concat([prod_name, order_ammount, reorder_frecc], axis='columns')

df_concat["order_ammount"] = df_concat["order_ammount"].fillna(0)
df_concat["reorder_frecc"] = df_concat["reorder_frecc"].fillna(0)

df_concat["reorder_frecc"] = df_concat["reorder_frecc"].astype(int)
df_concat["reorder_rate"] = round(df_concat["reorder_frecc"]/df_concat["order_ammount"]*100,2)

df_concat["reorder_rate"] = df_concat["reorder_rate"].fillna("Not sold")

print(df_concat.head(10))











df_ord_re = df_ord[df_ord["reordered"]==1]


cli_ord = df_ic_ord.set_index("order_id")["user_id"]
cli_ord.sort_index(inplace=True)


all_ord = df_ord.groupby("order_id")["product_id"].count()
all_ord = all_ord.rename_axis("product_id").reset_index(name="all_orders")
all_ord.set_index("product_id", inplace=True)


re_ord = df_ord_re.groupby("order_id")["product_id"].count()
re_ord = re_ord.rename_axis("product_id").reset_index(name="all_reorders")
re_ord.set_index("product_id", inplace=True)


re_ord_con = pd.concat([all_ord, re_ord], axis="columns" )
re_ord_con["re_ord_percentage"] = round(re_ord_con["all_reorders"]/re_ord_con["all_orders"]*100,2)
re_ord_con["re_ord_percentage"] = re_ord_con["re_ord_percentage"].fillna(0)


re_ord_id = pd.concat([cli_ord,re_ord_con], axis="columns" )
re_ord_id = re_ord_id.groupby('user_id').agg({
    'all_orders': 'sum',
    'all_reorders': 'sum',
    're_ord_percentage': 'mean'
})
re_ord_id["re_ord_percentage"] = re_ord_id["re_ord_percentage"].round(2)
print(re_ord_id.head(20))


# Obtener los datos de 'all_orders' y 're_ord_percentage'
all_orders = re_ord_id['all_orders']
re_ord_percentage = re_ord_id['re_ord_percentage']

# Crear el scatter plot
plt.figure(figsize=(10, 6))
plt.scatter(all_orders, re_ord_percentage, alpha=.05, color='#FF7008', marker='.')
plt.title('Scatter Plot de all_orders vs re_ord_percentage')
plt.xlabel('all_orders')
plt.ylabel('re_ord_percentage')
plt.grid(True)
plt.show()











df_ord_1 = df_ord[df_ord["add_to_cart_order"]==1]

fst_crt = df_ord_1.groupby("product_id")["add_to_cart_order"].count()
fst_crt.sort_values(ascending = False, inplace = True)
fst_crt = fst_crt.head(20)


i=0
x=0

fst_crt_p = pd.DataFrame(columns=["product_name", "first_in_cart"])

print("Top 20 productos que se ponen primero en el carrito:")
while i < 20 and x < len(fst_crt):
    product_id = fst_crt.index[x]
    product_1st = fst_crt.iloc[x]

    product_name = df_prod.loc[df_prod['product_id'] == product_id, 'product_name'].iloc[0]
    
    row = {"product_name":product_name, "first_in_cart":product_1st}
    
    fst_crt_p = pd.concat([fst_crt_p, pd.DataFrame([row])], ignore_index=True)

    print(f"{product_name}: {product_1st}")
    print()
    x += 1
    i += 1


fst_crt_p.set_index("product_name", inplace=True)

fst_crt_p.plot(
    kind='bar',
    color = "#FF7008",
    rot = 70,
    figsize = [20,5],
    width = .5,
    legend = False
)

plt.title("Los top 20 productos que se ponen primero en el carrito", fontsize = 14, fontweight="bold")
plt.grid(axis='y', linestyle='--', linewidth=0.2, color='#A4CCA4')
plt.xlabel("Producto")
plt.ylabel("Veces que se ha puesto primero")

plt.show()





















